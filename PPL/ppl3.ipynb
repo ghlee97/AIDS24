{
 "cells": [
  {
   "cell_type": "code",
   "execution_count": null,
   "metadata": {},
   "outputs": [],
   "source": [
    "import os\n",
    "os.environ[\"CUDA_VISIBLE_DEVICES\"] = \"3\""
   ]
  },
  {
   "cell_type": "code",
   "execution_count": null,
   "metadata": {},
   "outputs": [],
   "source": [
    "from transformers import AutoModelForCausalLM\n",
    "import torch\n",
    "import torch.nn as nn\n",
    "#import matplotlib.pyplot as plt\n",
    "import numpy as np\n",
    "import pandas as pd\n",
    "#import seaborn as sns\n",
    "import copy\n",
    "import json\n",
    "from tqdm import tqdm as tqdm\n",
    "\n",
    "\n",
    "from ppl_utils import eval_ppl\n",
    "\n",
    "\n",
    "from peft import LoraConfig, get_peft_model, PeftModel"
   ]
  },
  {
   "cell_type": "code",
   "execution_count": null,
   "metadata": {},
   "outputs": [],
   "source": [
    "base_path = \"/raid/lgh/aids24/EX1/ex1_llama2_7b_c4_omni_w4\""
   ]
  },
  {
   "cell_type": "code",
   "execution_count": null,
   "metadata": {},
   "outputs": [],
   "source": [
    "model = AutoModelForCausalLM.from_pretrained(\n",
    "    base_path,\n",
    "    torch_dtype = torch.float32, #torch.float16\n",
    "    device_map = \"cuda\",\n",
    "    trust_remote_code=True\n",
    ")\n",
    "\n",
    "#model = PeftModel.from_pretrained(model, adapter_path, is_trainable=True)\n",
    "for para in model.parameters():\n",
    "    para.requires_grad = False\n",
    "model.config.use_cache = False\n",
    "model.eval()"
   ]
  },
  {
   "cell_type": "code",
   "execution_count": null,
   "metadata": {},
   "outputs": [],
   "source": [
    "results = eval_ppl(model, False, \"llama2\", \"cuda\", base_path)"
   ]
  },
  {
   "cell_type": "code",
   "execution_count": null,
   "metadata": {},
   "outputs": [],
   "source": [
    "output_dir = \"ppl_results/EX1/ex1_llama2_7b_awq_w4_c4_fake\""
   ]
  },
  {
   "cell_type": "code",
   "execution_count": null,
   "metadata": {},
   "outputs": [],
   "source": [
    "dumped = json.dumps(\n",
    "    results, indent=2, ensure_ascii=False\n",
    ")\n",
    "if not os.path.exists(output_dir):\n",
    "    os.makedirs(output_dir)\n",
    "\n",
    "    with open(os.path.join(output_dir, \"results.json\"), \"w\") as f:\n",
    "        f.write(dumped)\n",
    "        f.close()"
   ]
  }
 ],
 "metadata": {
  "kernelspec": {
   "display_name": "omniquant_kernel",
   "language": "python",
   "name": "omniquant"
  }
 },
 "nbformat": 4,
 "nbformat_minor": 2
}
